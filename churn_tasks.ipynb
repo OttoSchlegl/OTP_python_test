{
 "cells": [
  {
   "cell_type": "markdown",
   "metadata": {},
   "source": [
    "# Üdvözöllek"
   ]
  },
  {
   "cell_type": "markdown",
   "metadata": {},
   "source": [
    "Ez a notebook az OTP Bank Nyrt.  Kockázati modellezési osztály kiválasztási eljárásához készült. A célja , hogy a jelölt python - és részben modellezési -  ismereteit felmérje 4 feladaton keresztül. A 4. feladathoz szükséges lehet egy kis kutatásra az interneten amennyiben még nem illesztettél klasszifikációs modellt bináris célváltozóra. A feladatok megoldására a HR -es kolléga által kiküldött email után 1 hét áll rendelkezésre. A megoldásokat notebook formában várjuk az otto.laszlo.schlegl@otpbank.hu email címre.  A kitöltött notebookban szerepeljen a megoldáshoz használt kódrészlet. "
   ]
  },
  {
   "cell_type": "markdown",
   "metadata": {},
   "source": [
    "**Feladat 0.**\n",
    "\n",
    "Töltsd le és olvasd be a mappában található csv fájlt (churn_data.csv)"
   ]
  },
  {
   "cell_type": "code",
   "execution_count": null,
   "metadata": {},
   "outputs": [],
   "source": []
  },
  {
   "cell_type": "markdown",
   "metadata": {},
   "source": [
    "#### Feladat 1."
   ]
  },
  {
   "cell_type": "markdown",
   "metadata": {},
   "source": [
    "Mekkora az átlag churn ráta a 9 hónapnál régebbi ügyfeleknél a különböző szerződéstípusok esetén? (ha nem ismered a pandassql csomagot, akkor keress más megoldást)"
   ]
  },
  {
   "cell_type": "code",
   "execution_count": 3,
   "metadata": {},
   "outputs": [],
   "source": [
    "import pandasql as psql\n",
    "\n",
    "psql.sqldf(\"\"\"\"\"\")"
   ]
  },
  {
   "cell_type": "markdown",
   "metadata": {},
   "source": [
    "#### Feladat 2."
   ]
  },
  {
   "cell_type": "markdown",
   "metadata": {},
   "source": [
    "Vizsgáld meg a lehetséges változók típusát és eloszlását, ahol szükséges, ott kezeld a hiányzó értékeket!"
   ]
  },
  {
   "cell_type": "code",
   "execution_count": null,
   "metadata": {},
   "outputs": [],
   "source": []
  },
  {
   "cell_type": "markdown",
   "metadata": {},
   "source": [
    "#### Feladat 3."
   ]
  },
  {
   "cell_type": "markdown",
   "metadata": {},
   "source": [
    "Írj egy függvényt, amely a folytonos változókat 10 egyenlő részre osztja."
   ]
  },
  {
   "cell_type": "code",
   "execution_count": 4,
   "metadata": {},
   "outputs": [],
   "source": [
    "def binning_features(df, x, grp = 10):\n",
    "    \n",
    "    pass"
   ]
  },
  {
   "cell_type": "markdown",
   "metadata": {},
   "source": [
    "#### Feladat 4."
   ]
  },
  {
   "cell_type": "markdown",
   "metadata": {},
   "source": [
    "Építs klasszifikációs modellt a churn (célváltozó) előrejelzésére. (pl. a scikit learn csomag felhasználásával)\n",
    "\n",
    "Értékeld ki a modellt egy független mintán, a bináris célváltozójú klasszifikációs modellekre alkalmazott mutatókkal!"
   ]
  },
  {
   "cell_type": "code",
   "execution_count": null,
   "metadata": {},
   "outputs": [],
   "source": []
  }
 ],
 "metadata": {
  "kernelspec": {
   "display_name": "Python 3",
   "language": "python",
   "name": "python3"
  },
  "language_info": {
   "codemirror_mode": {
    "name": "ipython",
    "version": 3
   },
   "file_extension": ".py",
   "mimetype": "text/x-python",
   "name": "python",
   "nbconvert_exporter": "python",
   "pygments_lexer": "ipython3",
   "version": "3.8.5"
  }
 },
 "nbformat": 4,
 "nbformat_minor": 5
}
